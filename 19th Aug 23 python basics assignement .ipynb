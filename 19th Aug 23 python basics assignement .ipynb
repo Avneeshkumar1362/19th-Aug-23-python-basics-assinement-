{
 "cells": [
  {
   "cell_type": "markdown",
   "id": "f112914c-1c33-4e39-a017-1b12abcd5ab6",
   "metadata": {},
   "source": [
    "Que-1  Write a Python program that takes a string as input and prints the length of\n",
    "the string."
   ]
  },
  {
   "cell_type": "code",
   "execution_count": 2,
   "id": "4ed92954-ceaa-4c14-8450-aa9a35262ec1",
   "metadata": {},
   "outputs": [],
   "source": [
    "a=\"pwskills\""
   ]
  },
  {
   "cell_type": "code",
   "execution_count": 3,
   "id": "887b05c8-db69-4beb-823f-6f0c091d8a91",
   "metadata": {},
   "outputs": [
    {
     "data": {
      "text/plain": [
       "8"
      ]
     },
     "execution_count": 3,
     "metadata": {},
     "output_type": "execute_result"
    }
   ],
   "source": [
    "len(a)"
   ]
  },
  {
   "cell_type": "markdown",
   "id": "d658ffd2-75a1-4a01-892a-49816dfd5168",
   "metadata": {},
   "source": [
    "Que-2 Create a program that takes a sentence from the user and counts the number\n",
    "of vowels (a, e, i, o, u) in the string."
   ]
  },
  {
   "cell_type": "code",
   "execution_count": 4,
   "id": "e2923970-9a56-4e89-93dc-01fc7017112f",
   "metadata": {},
   "outputs": [],
   "source": [
    "a='pwskills'"
   ]
  },
  {
   "cell_type": "code",
   "execution_count": 6,
   "id": "dd5d8eee-8b35-4a38-9ced-5e3aa95b1f75",
   "metadata": {},
   "outputs": [
    {
     "data": {
      "text/plain": [
       "2"
      ]
     },
     "execution_count": 6,
     "metadata": {},
     "output_type": "execute_result"
    }
   ],
   "source": [
    "a.count('s')"
   ]
  },
  {
   "cell_type": "markdown",
   "id": "89aba515-ec50-4973-95fa-5cb644ab32a9",
   "metadata": {},
   "source": [
    "Que-3 Given a string, reverse the order of characters using string slicing and print\n",
    "the reversed string."
   ]
  },
  {
   "cell_type": "code",
   "execution_count": 8,
   "id": "f043bb72-b1cd-49bf-9e4c-eb8c1bafec49",
   "metadata": {},
   "outputs": [
    {
     "data": {
      "text/plain": [
       "'sllikswp'"
      ]
     },
     "execution_count": 8,
     "metadata": {},
     "output_type": "execute_result"
    }
   ],
   "source": [
    "a[::-1]"
   ]
  },
  {
   "cell_type": "markdown",
   "id": "696d2752-0cc3-4dd9-aaf4-74db21a385df",
   "metadata": {},
   "source": [
    "Que-4 Write a program that takes a string as input and checks if it is a palindrome\n",
    "(reads the same forwards and backwards)."
   ]
  },
  {
   "cell_type": "code",
   "execution_count": null,
   "id": "fe237757-0c13-4b61-9369-70836dc5dacd",
   "metadata": {},
   "outputs": [],
   "source": [
    "b=\""
   ]
  },
  {
   "cell_type": "code",
   "execution_count": null,
   "id": "e6e4c6a4-f5c7-458c-b1fb-58b77911855e",
   "metadata": {},
   "outputs": [],
   "source": []
  },
  {
   "cell_type": "markdown",
   "id": "80beca83-16bc-4bd9-9394-25905f151402",
   "metadata": {},
   "source": [
    "Que-5 Create a program that takes a string as input and removes all the spaces from\n",
    "it. Print the modified string without spaces."
   ]
  },
  {
   "cell_type": "code",
   "execution_count": 9,
   "id": "f4a10fc4-4ffa-476b-a532-762fadd65ec7",
   "metadata": {},
   "outputs": [],
   "source": [
    "a=\"   pwskills    \""
   ]
  },
  {
   "cell_type": "code",
   "execution_count": 10,
   "id": "c87aa99f-a1d3-4af9-8d8d-700aac282c4a",
   "metadata": {},
   "outputs": [
    {
     "data": {
      "text/plain": [
       "'pwskills'"
      ]
     },
     "execution_count": 10,
     "metadata": {},
     "output_type": "execute_result"
    }
   ],
   "source": [
    "a.strip()"
   ]
  },
  {
   "cell_type": "code",
   "execution_count": null,
   "id": "8851f05e-ed0f-44e9-b2dc-8b55d298639f",
   "metadata": {},
   "outputs": [],
   "source": []
  }
 ],
 "metadata": {
  "kernelspec": {
   "display_name": "Python 3 (ipykernel)",
   "language": "python",
   "name": "python3"
  },
  "language_info": {
   "codemirror_mode": {
    "name": "ipython",
    "version": 3
   },
   "file_extension": ".py",
   "mimetype": "text/x-python",
   "name": "python",
   "nbconvert_exporter": "python",
   "pygments_lexer": "ipython3",
   "version": "3.10.8"
  }
 },
 "nbformat": 4,
 "nbformat_minor": 5
}
